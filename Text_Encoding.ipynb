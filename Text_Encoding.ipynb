{
 "cells": [
  {
   "cell_type": "code",
   "execution_count": 1,
   "metadata": {},
   "outputs": [
    {
     "data": {
      "text/plain": [
       "' \\n@@ Authur: Sanyukta Suman\\n\\nWhich kind of data set did you choose for your Project?\\n\\nAnswer- I have choosen the dataset which contains reviews from google playstore on snapchat.\\n\\nThere are four features in this data set. They are:\\n1. Date -Date the review is posted.\\n2. Rating- User rating out of 5.\\n3. Helpful- How many users think the review has been helpful.\\n4. Review- TextReview Description.\\n\\n\\n------ Objective of this project is to fid out wheather the review is positive or negative-------\\n'"
      ]
     },
     "execution_count": 1,
     "metadata": {},
     "output_type": "execute_result"
    }
   ],
   "source": [
    "''' \n",
    "@@ Authur: Sanyukta Suman\n",
    "\n",
    "Which kind of data set did you choose for your Project?\n",
    "\n",
    "Answer- I have choosen the dataset which contains reviews from google playstore on snapchat.\n",
    "\n",
    "There are four features in this data set. They are:\n",
    "1. Date -Date the review is posted.\n",
    "2. Rating- User rating out of 5.\n",
    "3. Helpful- How many users think the review has been helpful.\n",
    "4. Review- TextReview Description.\n",
    "\n",
    "\n",
    "------ Objective of this project is to fid out wheather the review is positive or negative-------\n",
    "'''\n",
    "\n"
   ]
  },
  {
   "cell_type": "code",
   "execution_count": 3,
   "metadata": {},
   "outputs": [
    {
     "data": {
      "text/plain": [
       "'Data value set(DVS) ={Date, Rating, Helpful, Review Text}'"
      ]
     },
     "execution_count": 3,
     "metadata": {},
     "output_type": "execute_result"
    }
   ],
   "source": [
    "# Describe the RV-Fuction\n",
    "'''The RV-function of the dataset is procedure of giving rating, measure of helpfullness and typing Review Text'''\n",
    "\n",
    "#Define Data Value Space \n",
    "'''Data value set(DVS) ={Date, Rating, Helpful, Review Text}'''"
   ]
  },
  {
   "cell_type": "code",
   "execution_count": 4,
   "metadata": {},
   "outputs": [],
   "source": [
    "import pandas as pd\n",
    "import matplotlib.pyplot as plt\n",
    "from matplotlib.pyplot import figure\n",
    "import seaborn as sns\n",
    "%matplotlib inline\n",
    "import pandas as pd\n",
    "import numpy as np\n",
    "import nltk\n",
    "from nltk.corpus import stopwords\n",
    "from nltk.stem import SnowballStemmer\n",
    "import numpy\n",
    "import re\n",
    "from sklearn.decomposition import PCA"
   ]
  },
  {
   "cell_type": "code",
   "execution_count": 5,
   "metadata": {},
   "outputs": [],
   "source": [
    "\n",
    "\n",
    "data = pd.read_csv(\"Reviews.csv\", sep = \",\", nrows=100)\n"
   ]
  },
  {
   "cell_type": "code",
   "execution_count": 6,
   "metadata": {},
   "outputs": [
    {
     "data": {
      "text/html": [
       "<div>\n",
       "<style scoped>\n",
       "    .dataframe tbody tr th:only-of-type {\n",
       "        vertical-align: middle;\n",
       "    }\n",
       "\n",
       "    .dataframe tbody tr th {\n",
       "        vertical-align: top;\n",
       "    }\n",
       "\n",
       "    .dataframe thead th {\n",
       "        text-align: right;\n",
       "    }\n",
       "</style>\n",
       "<table border=\"1\" class=\"dataframe\">\n",
       "  <thead>\n",
       "    <tr style=\"text-align: right;\">\n",
       "      <th></th>\n",
       "      <th>Date</th>\n",
       "      <th>Rating</th>\n",
       "      <th>Helpful</th>\n",
       "      <th>Review Text</th>\n",
       "    </tr>\n",
       "  </thead>\n",
       "  <tbody>\n",
       "    <tr>\n",
       "      <td>0</td>\n",
       "      <td>19-Nov-19</td>\n",
       "      <td>4</td>\n",
       "      <td>0</td>\n",
       "      <td>Very Best camera and chat app🔥👍👍</td>\n",
       "    </tr>\n",
       "    <tr>\n",
       "      <td>1</td>\n",
       "      <td>19-Nov-19</td>\n",
       "      <td>5</td>\n",
       "      <td>0</td>\n",
       "      <td>I love love love this app🥰 its its amazingly e...</td>\n",
       "    </tr>\n",
       "    <tr>\n",
       "      <td>2</td>\n",
       "      <td>19-Nov-19</td>\n",
       "      <td>1</td>\n",
       "      <td>5</td>\n",
       "      <td>Broken joke of an app. Nothing else to it</td>\n",
       "    </tr>\n",
       "    <tr>\n",
       "      <td>3</td>\n",
       "      <td>19-Nov-19</td>\n",
       "      <td>5</td>\n",
       "      <td>0</td>\n",
       "      <td>One of the best texting a call apps out there</td>\n",
       "    </tr>\n",
       "    <tr>\n",
       "      <td>4</td>\n",
       "      <td>19-Nov-19</td>\n",
       "      <td>1</td>\n",
       "      <td>0</td>\n",
       "      <td>Have to download it again and again so that th...</td>\n",
       "    </tr>\n",
       "  </tbody>\n",
       "</table>\n",
       "</div>"
      ],
      "text/plain": [
       "        Date  Rating  Helpful  \\\n",
       "0  19-Nov-19       4        0   \n",
       "1  19-Nov-19       5        0   \n",
       "2  19-Nov-19       1        5   \n",
       "3  19-Nov-19       5        0   \n",
       "4  19-Nov-19       1        0   \n",
       "\n",
       "                                         Review Text  \n",
       "0                   Very Best camera and chat app🔥👍👍  \n",
       "1  I love love love this app🥰 its its amazingly e...  \n",
       "2          Broken joke of an app. Nothing else to it  \n",
       "3      One of the best texting a call apps out there  \n",
       "4  Have to download it again and again so that th...  "
      ]
     },
     "execution_count": 6,
     "metadata": {},
     "output_type": "execute_result"
    }
   ],
   "source": [
    "#Printing 100 samples from the data set\n",
    "data.head()"
   ]
  },
  {
   "cell_type": "code",
   "execution_count": 7,
   "metadata": {},
   "outputs": [],
   "source": [
    "#--------1. Data Preprocessing----------\n",
    "rate_count=[]\n",
    "rate_count=data['Rating'].value_counts()"
   ]
  },
  {
   "cell_type": "code",
   "execution_count": 28,
   "metadata": {},
   "outputs": [
    {
     "data": {
      "text/plain": [
       "5    33\n",
       "1    26\n",
       "3    16\n",
       "2    14\n",
       "4    11\n",
       "Name: Rating, dtype: int64"
      ]
     },
     "execution_count": 28,
     "metadata": {},
     "output_type": "execute_result"
    }
   ],
   "source": [
    "rate_count"
   ]
  },
  {
   "cell_type": "code",
   "execution_count": 10,
   "metadata": {},
   "outputs": [],
   "source": [
    "'''So if you see the ‘Rating’ column,it has 1,2,3,4,5 values. \n",
    "Our main objective is to predict whether a given review is positive or negative.\n",
    "Here, if we consider 1,2 as negative reviews and 4,5 as positive reviews then logically 3 \n",
    "does not add any value to our objective. So, let’s discard those rows where ‘Rating’=3'''\n",
    "\n",
    "data=data[data['Rating']!=3]\n"
   ]
  },
  {
   "cell_type": "code",
   "execution_count": 11,
   "metadata": {},
   "outputs": [
    {
     "data": {
      "text/html": [
       "<div>\n",
       "<style scoped>\n",
       "    .dataframe tbody tr th:only-of-type {\n",
       "        vertical-align: middle;\n",
       "    }\n",
       "\n",
       "    .dataframe tbody tr th {\n",
       "        vertical-align: top;\n",
       "    }\n",
       "\n",
       "    .dataframe thead th {\n",
       "        text-align: right;\n",
       "    }\n",
       "</style>\n",
       "<table border=\"1\" class=\"dataframe\">\n",
       "  <thead>\n",
       "    <tr style=\"text-align: right;\">\n",
       "      <th></th>\n",
       "      <th>Date</th>\n",
       "      <th>Rating</th>\n",
       "      <th>Helpful</th>\n",
       "      <th>Review Text</th>\n",
       "    </tr>\n",
       "  </thead>\n",
       "  <tbody>\n",
       "    <tr>\n",
       "      <td>0</td>\n",
       "      <td>19-Nov-19</td>\n",
       "      <td>positive</td>\n",
       "      <td>0</td>\n",
       "      <td>Very Best camera and chat app🔥👍👍</td>\n",
       "    </tr>\n",
       "    <tr>\n",
       "      <td>1</td>\n",
       "      <td>19-Nov-19</td>\n",
       "      <td>positive</td>\n",
       "      <td>0</td>\n",
       "      <td>I love love love this app🥰 its its amazingly e...</td>\n",
       "    </tr>\n",
       "    <tr>\n",
       "      <td>2</td>\n",
       "      <td>19-Nov-19</td>\n",
       "      <td>negative</td>\n",
       "      <td>5</td>\n",
       "      <td>Broken joke of an app. Nothing else to it</td>\n",
       "    </tr>\n",
       "    <tr>\n",
       "      <td>3</td>\n",
       "      <td>19-Nov-19</td>\n",
       "      <td>positive</td>\n",
       "      <td>0</td>\n",
       "      <td>One of the best texting a call apps out there</td>\n",
       "    </tr>\n",
       "    <tr>\n",
       "      <td>4</td>\n",
       "      <td>19-Nov-19</td>\n",
       "      <td>negative</td>\n",
       "      <td>0</td>\n",
       "      <td>Have to download it again and again so that th...</td>\n",
       "    </tr>\n",
       "    <tr>\n",
       "      <td>...</td>\n",
       "      <td>...</td>\n",
       "      <td>...</td>\n",
       "      <td>...</td>\n",
       "      <td>...</td>\n",
       "    </tr>\n",
       "    <tr>\n",
       "      <td>94</td>\n",
       "      <td>18-Nov-19</td>\n",
       "      <td>positive</td>\n",
       "      <td>0</td>\n",
       "      <td>Please remove camera sound its so annoying</td>\n",
       "    </tr>\n",
       "    <tr>\n",
       "      <td>95</td>\n",
       "      <td>18-Nov-19</td>\n",
       "      <td>positive</td>\n",
       "      <td>0</td>\n",
       "      <td>Soooooo awesome! Love the filters 😸</td>\n",
       "    </tr>\n",
       "    <tr>\n",
       "      <td>96</td>\n",
       "      <td>18-Nov-19</td>\n",
       "      <td>positive</td>\n",
       "      <td>0</td>\n",
       "      <td>amazing but when you send a vidio it takes lik...</td>\n",
       "    </tr>\n",
       "    <tr>\n",
       "      <td>97</td>\n",
       "      <td>18-Nov-19</td>\n",
       "      <td>positive</td>\n",
       "      <td>0</td>\n",
       "      <td>I can text people I need to text on this app m...</td>\n",
       "    </tr>\n",
       "    <tr>\n",
       "      <td>99</td>\n",
       "      <td>18-Nov-19</td>\n",
       "      <td>negative</td>\n",
       "      <td>0</td>\n",
       "      <td>Im have issues with sending.. It doesnt go thr...</td>\n",
       "    </tr>\n",
       "  </tbody>\n",
       "</table>\n",
       "<p>84 rows × 4 columns</p>\n",
       "</div>"
      ],
      "text/plain": [
       "         Date    Rating  Helpful  \\\n",
       "0   19-Nov-19  positive        0   \n",
       "1   19-Nov-19  positive        0   \n",
       "2   19-Nov-19  negative        5   \n",
       "3   19-Nov-19  positive        0   \n",
       "4   19-Nov-19  negative        0   \n",
       "..        ...       ...      ...   \n",
       "94  18-Nov-19  positive        0   \n",
       "95  18-Nov-19  positive        0   \n",
       "96  18-Nov-19  positive        0   \n",
       "97  18-Nov-19  positive        0   \n",
       "99  18-Nov-19  negative        0   \n",
       "\n",
       "                                          Review Text  \n",
       "0                    Very Best camera and chat app🔥👍👍  \n",
       "1   I love love love this app🥰 its its amazingly e...  \n",
       "2           Broken joke of an app. Nothing else to it  \n",
       "3       One of the best texting a call apps out there  \n",
       "4   Have to download it again and again so that th...  \n",
       "..                                                ...  \n",
       "94         Please remove camera sound its so annoying  \n",
       "95                Soooooo awesome! Love the filters 😸  \n",
       "96  amazing but when you send a vidio it takes lik...  \n",
       "97  I can text people I need to text on this app m...  \n",
       "99  Im have issues with sending.. It doesnt go thr...  \n",
       "\n",
       "[84 rows x 4 columns]"
      ]
     },
     "execution_count": 11,
     "metadata": {},
     "output_type": "execute_result"
    }
   ],
   "source": [
    "'''Let’s convert the score values into class label either ‘positive’ or ‘negative’ .'''\n",
    "\n",
    "def xyz(x):\n",
    "    if x>3:\n",
    "        return 'positive'\n",
    "    else:\n",
    "        return 'negative'\n",
    "s=data['Rating']\n",
    "d=list(map(xyz,s))\n",
    "data['Rating']=d\n",
    "data"
   ]
  },
  {
   "cell_type": "code",
   "execution_count": 12,
   "metadata": {},
   "outputs": [],
   "source": [
    "#removing duplicates and unwanted records.\n",
    "data_f=data.sort_values('Date').drop_duplicates(subset=['Rating','Helpful','Review Text'],keep='first',inplace=False)"
   ]
  },
  {
   "cell_type": "code",
   "execution_count": 13,
   "metadata": {},
   "outputs": [
    {
     "data": {
      "text/plain": [
       "(84, 4)"
      ]
     },
     "execution_count": 13,
     "metadata": {},
     "output_type": "execute_result"
    }
   ],
   "source": [
    "data_f.shape"
   ]
  },
  {
   "cell_type": "code",
   "execution_count": 14,
   "metadata": {},
   "outputs": [
    {
     "data": {
      "text/plain": [
       "Text(0.5, 1.0, 'Rating')"
      ]
     },
     "execution_count": 14,
     "metadata": {},
     "output_type": "execute_result"
    },
    {
     "data": {
      "image/png": "[encoded data removed]",
      "text/plain": [
       "<Figure size 1080x360 with 1 Axes>"
      ]
     },
     "metadata": {
      "needs_background": "light"
     },
     "output_type": "display_data"
    }
   ],
   "source": [
    "\n",
    "data = pd.read_csv(\"Reviews.csv\", nrows=100)\n",
    "#print(df)\n",
    "data.plot(figsize=(15,5))\n",
    "#plt.xlabel('Year')\n",
    "#plt.ylabel('Pmf')\n",
    "plt.title('Rating')\n",
    "#plt.show()"
   ]
  },
  {
   "cell_type": "code",
   "execution_count": 15,
   "metadata": {},
   "outputs": [],
   "source": [
    "#------Text Preprocessing steps------\n",
    "'''a. Remove html tags.b. Remove any punctuations and special characters\n",
    "c. Convert the word to lowercased. Remove stopwords\n",
    "e. Finally I use snowballstemmer for stemming the words.'''\n",
    "\n",
    "\n",
    "from bs4 import BeautifulSoup\n",
    "stop=set(stopwords.words('english'))\n",
    "snow = nltk.stem.SnowballStemmer('english')\n",
    "#stop\n",
    "\n",
    "def decontracted(phrase):\n",
    "    phrase=re.sub(r\"won't\",\"will not\",phrase)\n",
    "    phrase=re.sub(r\"can't\",\"can not\",phrase)\n",
    "    phrase=re.sub(r\"n\\'t\",\"not\",phrase)\n",
    "    phrase=re.sub(r\"\\'re\",\"are\",phrase)\n",
    "    phrase=re.sub(r\"\\'s\",\"is\",phrase)\n",
    "    phrase=re.sub(r\"\\'d\",\"would\",phrase)\n",
    "    phrase=re.sub(r\"\\'ll\",\"will\",phrase)    \n",
    "    phrase=re.sub(r\"\\'t\",\"not\",sentence)\n",
    "    phrase=re.sub(r\"\\'ve\",\"have\",sentence)\n",
    "    phrase=re.sub(r\"\\'m\",\"am\",sentence)\n",
    "    return phrase\n",
    "preprocessed_reviews=[]\n",
    "for sentence in data_f['Review Text'].values:\n",
    "    sentence=re.sub(r\"http\\S+\",\" \",sentence)\n",
    "    sentence=BeautifulSoup(sentence,'lxml').get_text()\n",
    "    cleanr=re.compile('<.*?>')\n",
    "    sentence=re.sub(cleanr,' ',sentence)\n",
    "    sentence=decontracted(sentence)\n",
    "    sentence=re.sub(\"\\S\\*\\d\\S*\",\" \",sentence)\n",
    "    sentence=re.sub(\"[^A-Za-z]+\",\" \",sentence)\n",
    "    sentence=re.sub(r'[?|!|\\'|\"|#]',r' ',sentence)\n",
    "    sentence=re.sub(r'[.|,|)|(|\\|/]',r' ',sentence)\n",
    "    sentence='  '.join(snow.stem(e.lower()) for e in sentence.split() if e.lower() not in stop)\n",
    "    preprocessed_reviews.append(sentence.strip())\n"
   ]
  },
  {
   "cell_type": "code",
   "execution_count": 16,
   "metadata": {},
   "outputs": [
    {
     "data": {
      "text/plain": [
       "84"
      ]
     },
     "execution_count": 16,
     "metadata": {},
     "output_type": "execute_result"
    }
   ],
   "source": [
    "len(preprocessed_reviews)"
   ]
  },
  {
   "cell_type": "code",
   "execution_count": 17,
   "metadata": {},
   "outputs": [
    {
     "name": "stdout",
     "output_type": "stream",
     "text": [
      "84\n"
     ]
    }
   ],
   "source": [
    "#-------Text Encoding-------\n",
    "from gensim.models import Word2Vec\n",
    "#df=data_f\n",
    "list_of_sentences=[]\n",
    "for sentence in preprocessed_reviews:\n",
    "    list_of_sentences.append(sentence.split())\n",
    "w2v_model=Word2Vec(list_of_sentences,min_count=5,size=50,workers=4)\n",
    "w2v_words=list(w2v_model.wv.vocab)\n",
    "sent_vectors=[]\n",
    "for sent in list_of_sentences:\n",
    "    sent_vec=np.zeros(50)\n",
    "    cnt_words=0\n",
    "    for word in sent:\n",
    "        if word in w2v_words:\n",
    "            vec=w2v_model.wv[word]\n",
    "            sent_vec=sent_vec+vec\n",
    "            cnt_words=cnt_words+1\n",
    "    if cnt_words!=0:\n",
    "        sent_vec=sent_vec/cnt_words\n",
    "    sent_vectors.append(sent_vec)\n",
    "    #sent_vectors.append(df)\n",
    "print(len(sent_vectors))   \n",
    "#print(sent_vectors[0])\n",
    "#print(sent_vec)"
   ]
  },
  {
   "cell_type": "code",
   "execution_count": 18,
   "metadata": {},
   "outputs": [],
   "source": [
    "review_df=pd.DataFrame(sent_vectors)"
   ]
  },
  {
   "cell_type": "code",
   "execution_count": 19,
   "metadata": {},
   "outputs": [],
   "source": [
    "x = review_df.iloc[:,:-1].values\n",
    "y = review_df.iloc[:,49].values\n",
    "\n",
    "# Splitting the data into train-test set\n",
    "from sklearn.model_selection import train_test_split\n",
    "x_train,x_test,y_train,y_test = train_test_split(x,y,test_size=0.20)"
   ]
  },
  {
   "cell_type": "code",
   "execution_count": 20,
   "metadata": {},
   "outputs": [],
   "source": [
    "# Feature Scaling \n",
    "from sklearn.preprocessing import StandardScaler\n",
    "sc = StandardScaler()\n",
    "x_train = sc.fit_transform(x_train)\n",
    "x_test = sc.transform(x_test)"
   ]
  },
  {
   "cell_type": "code",
   "execution_count": 21,
   "metadata": {},
   "outputs": [],
   "source": [
    "# Principal Component Analysis\n",
    "pca = PCA(n_components = 8) #found this to be the optimal number of columns \n",
    "x_train = pca.fit_transform(x_train)\n",
    "x_test = pca.transform(x_test)"
   ]
  },
  {
   "cell_type": "code",
   "execution_count": 22,
   "metadata": {},
   "outputs": [
    {
     "data": {
      "text/plain": [
       "<matplotlib.axes._subplots.AxesSubplot at 0x1f5c5132b38>"
      ]
     },
     "execution_count": 22,
     "metadata": {},
     "output_type": "execute_result"
    },
    {
     "data": {
      "image/png": "[encoded data removed]",
      "text/plain": [
       "<Figure size 640x400 with 2 Axes>"
      ]
     },
     "metadata": {},
     "output_type": "display_data"
    }
   ],
   "source": [
    "# after PCA we found 8 columns which can be selected \n",
    "figure(num=None, figsize=(8, 5), dpi=80, facecolor='w', edgecolor='k')\n",
    "sns.heatmap(pd.DataFrame(x_train).corr(), annot=True)"
   ]
  },
  {
   "cell_type": "code",
   "execution_count": 23,
   "metadata": {},
   "outputs": [
    {
     "data": {
      "text/plain": [
       "<matplotlib.axes._subplots.AxesSubplot at 0x1f5c75e56d8>"
      ]
     },
     "execution_count": 23,
     "metadata": {},
     "output_type": "execute_result"
    },
    {
     "data": {
      "image/png": "[encoded data removed]",
      "text/plain": [
       "<Figure size 640x400 with 2 Axes>"
      ]
     },
     "metadata": {},
     "output_type": "display_data"
    }
   ],
   "source": [
    "# To find the correlation among \n",
    "# the columns using pearson method \n",
    "# after PCA we found 8 columns which can be selected \n",
    "figure(num=None, figsize=(8, 5), dpi=80, facecolor='w', edgecolor='k')\n",
    "sns.heatmap(pd.DataFrame(x_train).corr(method='pearson'), annot=True)"
   ]
  },
  {
   "cell_type": "code",
   "execution_count": 46,
   "metadata": {},
   "outputs": [],
   "source": [
    "#----Generating the correlation matrix-------\n",
    "corr = review_df.corr()"
   ]
  },
  {
   "cell_type": "code",
   "execution_count": 49,
   "metadata": {},
   "outputs": [],
   "source": [
    "#--------compare the correlation between features and remove one of two features that have a correlation higher than 0.9\n",
    "columns = np.full((corr.shape[0],), True, dtype=bool)\n",
    "for i in range(corr.shape[0]):\n",
    "    for j in range(i+1, corr.shape[0]):\n",
    "        if corr.iloc[i,j] >= 0.9:\n",
    "            if columns[j]:\n",
    "                columns[j] = False\n",
    "selected_columns = review_df.columns[columns]\n",
    "corr_df = review_df[selected_columns]"
   ]
  },
  {
   "cell_type": "code",
   "execution_count": 51,
   "metadata": {},
   "outputs": [
    {
     "ename": "AttributeError",
     "evalue": "module 'statsmodels.formula.api' has no attribute 'OLS'",
     "output_type": "error",
     "traceback": [
      "\u001b[1;31m---------------------------------------------------------------------------\u001b[0m",
      "\u001b[1;31mAttributeError\u001b[0m                            Traceback (most recent call last)",
      "\u001b[1;32m<ipython-input-51-f581140e9aa0>\u001b[0m in \u001b[0;36m<module>\u001b[1;34m\u001b[0m\n\u001b[0;32m     15\u001b[0m     \u001b[1;32mreturn\u001b[0m \u001b[0mx\u001b[0m\u001b[1;33m,\u001b[0m \u001b[0mcolumns\u001b[0m\u001b[1;33m\u001b[0m\u001b[1;33m\u001b[0m\u001b[0m\n\u001b[0;32m     16\u001b[0m \u001b[0mSL\u001b[0m \u001b[1;33m=\u001b[0m \u001b[1;36m0.05\u001b[0m\u001b[1;33m\u001b[0m\u001b[1;33m\u001b[0m\u001b[0m\n\u001b[1;32m---> 17\u001b[1;33m \u001b[0mdata_modeled\u001b[0m\u001b[1;33m,\u001b[0m \u001b[0mselected_columns\u001b[0m \u001b[1;33m=\u001b[0m \u001b[0mbackwardElimination\u001b[0m\u001b[1;33m(\u001b[0m\u001b[0mcorr_df\u001b[0m\u001b[1;33m.\u001b[0m\u001b[0miloc\u001b[0m\u001b[1;33m[\u001b[0m\u001b[1;33m:\u001b[0m\u001b[1;33m,\u001b[0m\u001b[1;36m1\u001b[0m\u001b[1;33m:\u001b[0m\u001b[1;33m]\u001b[0m\u001b[1;33m.\u001b[0m\u001b[0mvalues\u001b[0m\u001b[1;33m,\u001b[0m \u001b[0mcorr_df\u001b[0m\u001b[1;33m.\u001b[0m\u001b[0miloc\u001b[0m\u001b[1;33m[\u001b[0m\u001b[1;33m:\u001b[0m\u001b[1;33m,\u001b[0m\u001b[1;36m0\u001b[0m\u001b[1;33m]\u001b[0m\u001b[1;33m.\u001b[0m\u001b[0mvalues\u001b[0m\u001b[1;33m,\u001b[0m \u001b[0mSL\u001b[0m\u001b[1;33m,\u001b[0m \u001b[0mselected_columns\u001b[0m\u001b[1;33m)\u001b[0m\u001b[1;33m\u001b[0m\u001b[1;33m\u001b[0m\u001b[0m\n\u001b[0m",
      "\u001b[1;32m<ipython-input-51-f581140e9aa0>\u001b[0m in \u001b[0;36mbackwardElimination\u001b[1;34m(x, Y, sl, columns)\u001b[0m\n\u001b[0;32m      4\u001b[0m     \u001b[0mnumVars\u001b[0m \u001b[1;33m=\u001b[0m \u001b[0mlen\u001b[0m\u001b[1;33m(\u001b[0m\u001b[0mx\u001b[0m\u001b[1;33m[\u001b[0m\u001b[1;36m0\u001b[0m\u001b[1;33m]\u001b[0m\u001b[1;33m)\u001b[0m\u001b[1;33m\u001b[0m\u001b[1;33m\u001b[0m\u001b[0m\n\u001b[0;32m      5\u001b[0m     \u001b[1;32mfor\u001b[0m \u001b[0mi\u001b[0m \u001b[1;32min\u001b[0m \u001b[0mrange\u001b[0m\u001b[1;33m(\u001b[0m\u001b[1;36m0\u001b[0m\u001b[1;33m,\u001b[0m \u001b[0mnumVars\u001b[0m\u001b[1;33m)\u001b[0m\u001b[1;33m:\u001b[0m\u001b[1;33m\u001b[0m\u001b[1;33m\u001b[0m\u001b[0m\n\u001b[1;32m----> 6\u001b[1;33m         \u001b[0mregressor_OLS\u001b[0m \u001b[1;33m=\u001b[0m \u001b[0msm\u001b[0m\u001b[1;33m.\u001b[0m\u001b[0mOLS\u001b[0m\u001b[1;33m(\u001b[0m\u001b[0mY\u001b[0m\u001b[1;33m,\u001b[0m \u001b[0mx\u001b[0m\u001b[1;33m)\u001b[0m\u001b[1;33m.\u001b[0m\u001b[0mfit\u001b[0m\u001b[1;33m(\u001b[0m\u001b[1;33m)\u001b[0m\u001b[1;33m\u001b[0m\u001b[1;33m\u001b[0m\u001b[0m\n\u001b[0m\u001b[0;32m      7\u001b[0m         \u001b[0mmaxVar\u001b[0m \u001b[1;33m=\u001b[0m \u001b[0mmax\u001b[0m\u001b[1;33m(\u001b[0m\u001b[0mregressor_OLS\u001b[0m\u001b[1;33m.\u001b[0m\u001b[0mpvalues\u001b[0m\u001b[1;33m)\u001b[0m\u001b[1;33m.\u001b[0m\u001b[0mastype\u001b[0m\u001b[1;33m(\u001b[0m\u001b[0mfloat\u001b[0m\u001b[1;33m)\u001b[0m\u001b[1;33m\u001b[0m\u001b[1;33m\u001b[0m\u001b[0m\n\u001b[0;32m      8\u001b[0m         \u001b[1;32mif\u001b[0m \u001b[0mmaxVar\u001b[0m \u001b[1;33m>\u001b[0m \u001b[0msl\u001b[0m\u001b[1;33m:\u001b[0m\u001b[1;33m\u001b[0m\u001b[1;33m\u001b[0m\u001b[0m\n",
      "\u001b[1;31mAttributeError\u001b[0m: module 'statsmodels.formula.api' has no attribute 'OLS'"
     ]
    }
   ],
   "source": [
    "selected_columns = selected_columns[1:].values\n",
    "import statsmodels.formula.api as sm\n",
    "def backwardElimination(x, Y, sl, columns):\n",
    "    numVars = len(x[0])\n",
    "    for i in range(0, numVars):\n",
    "        regressor_OLS = sm.OLS(Y, x).fit()\n",
    "        maxVar = max(regressor_OLS.pvalues).astype(float)\n",
    "        if maxVar > sl:\n",
    "            for j in range(0, numVars - i):\n",
    "                if (regressor_OLS.pvalues[j].astype(float) == maxVar):\n",
    "                    x = np.delete(x, j, 1)\n",
    "                    columns = np.delete(columns, j)\n",
    "                    \n",
    "    regressor_OLS.summary()\n",
    "    return x, columns\n",
    "SL = 0.05\n",
    "data_modeled, selected_columns = backwardElimination(corr_df.iloc[:,1:].values, corr_df.iloc[:,0].values, SL, selected_columns)"
   ]
  },
  {
   "cell_type": "code",
   "execution_count": 50,
   "metadata": {},
   "outputs": [
    {
     "data": {
      "text/html": [
       "<div>\n",
       "<style scoped>\n",
       "    .dataframe tbody tr th:only-of-type {\n",
       "        vertical-align: middle;\n",
       "    }\n",
       "\n",
       "    .dataframe tbody tr th {\n",
       "        vertical-align: top;\n",
       "    }\n",
       "\n",
       "    .dataframe thead th {\n",
       "        text-align: right;\n",
       "    }\n",
       "</style>\n",
       "<table border=\"1\" class=\"dataframe\">\n",
       "  <thead>\n",
       "    <tr style=\"text-align: right;\">\n",
       "      <th></th>\n",
       "      <th>0</th>\n",
       "      <th>1</th>\n",
       "      <th>2</th>\n",
       "      <th>3</th>\n",
       "      <th>4</th>\n",
       "      <th>5</th>\n",
       "      <th>6</th>\n",
       "      <th>7</th>\n",
       "      <th>8</th>\n",
       "      <th>9</th>\n",
       "      <th>...</th>\n",
       "      <th>40</th>\n",
       "      <th>41</th>\n",
       "      <th>42</th>\n",
       "      <th>43</th>\n",
       "      <th>44</th>\n",
       "      <th>45</th>\n",
       "      <th>46</th>\n",
       "      <th>47</th>\n",
       "      <th>48</th>\n",
       "      <th>49</th>\n",
       "    </tr>\n",
       "  </thead>\n",
       "  <tbody>\n",
       "    <tr>\n",
       "      <td>0</td>\n",
       "      <td>0.000123</td>\n",
       "      <td>-0.001864</td>\n",
       "      <td>-0.002518</td>\n",
       "      <td>-5.662042e-03</td>\n",
       "      <td>0.001453</td>\n",
       "      <td>0.000414</td>\n",
       "      <td>-0.000249</td>\n",
       "      <td>-0.000990</td>\n",
       "      <td>0.000953</td>\n",
       "      <td>-0.000762</td>\n",
       "      <td>...</td>\n",
       "      <td>0.002148</td>\n",
       "      <td>0.001733</td>\n",
       "      <td>0.000206</td>\n",
       "      <td>-0.000953</td>\n",
       "      <td>0.002450</td>\n",
       "      <td>-0.000767</td>\n",
       "      <td>0.000247</td>\n",
       "      <td>-0.000575</td>\n",
       "      <td>-0.000770</td>\n",
       "      <td>0.001210</td>\n",
       "    </tr>\n",
       "    <tr>\n",
       "      <td>1</td>\n",
       "      <td>-0.002683</td>\n",
       "      <td>-0.005676</td>\n",
       "      <td>0.002085</td>\n",
       "      <td>-5.769311e-07</td>\n",
       "      <td>-0.000455</td>\n",
       "      <td>-0.000302</td>\n",
       "      <td>-0.005606</td>\n",
       "      <td>0.002488</td>\n",
       "      <td>0.001597</td>\n",
       "      <td>-0.002439</td>\n",
       "      <td>...</td>\n",
       "      <td>0.000966</td>\n",
       "      <td>0.000231</td>\n",
       "      <td>0.004561</td>\n",
       "      <td>-0.004788</td>\n",
       "      <td>0.004931</td>\n",
       "      <td>0.002398</td>\n",
       "      <td>-0.002815</td>\n",
       "      <td>0.000049</td>\n",
       "      <td>-0.000349</td>\n",
       "      <td>-0.003257</td>\n",
       "    </tr>\n",
       "    <tr>\n",
       "      <td>2</td>\n",
       "      <td>-0.001416</td>\n",
       "      <td>-0.004249</td>\n",
       "      <td>0.001822</td>\n",
       "      <td>-1.842882e-03</td>\n",
       "      <td>0.000963</td>\n",
       "      <td>0.001068</td>\n",
       "      <td>-0.000009</td>\n",
       "      <td>-0.002442</td>\n",
       "      <td>0.004567</td>\n",
       "      <td>-0.003982</td>\n",
       "      <td>...</td>\n",
       "      <td>0.000863</td>\n",
       "      <td>0.002131</td>\n",
       "      <td>0.004867</td>\n",
       "      <td>-0.001949</td>\n",
       "      <td>0.004120</td>\n",
       "      <td>0.003348</td>\n",
       "      <td>-0.003129</td>\n",
       "      <td>-0.000875</td>\n",
       "      <td>0.001558</td>\n",
       "      <td>0.001718</td>\n",
       "    </tr>\n",
       "    <tr>\n",
       "      <td>3</td>\n",
       "      <td>-0.001969</td>\n",
       "      <td>-0.000387</td>\n",
       "      <td>-0.002711</td>\n",
       "      <td>-4.787745e-03</td>\n",
       "      <td>0.001342</td>\n",
       "      <td>0.004508</td>\n",
       "      <td>0.003539</td>\n",
       "      <td>-0.004662</td>\n",
       "      <td>0.000228</td>\n",
       "      <td>0.005513</td>\n",
       "      <td>...</td>\n",
       "      <td>-0.002439</td>\n",
       "      <td>0.000868</td>\n",
       "      <td>-0.006884</td>\n",
       "      <td>-0.003411</td>\n",
       "      <td>0.002957</td>\n",
       "      <td>-0.001454</td>\n",
       "      <td>-0.002728</td>\n",
       "      <td>0.002022</td>\n",
       "      <td>-0.001707</td>\n",
       "      <td>-0.001150</td>\n",
       "    </tr>\n",
       "    <tr>\n",
       "      <td>4</td>\n",
       "      <td>0.001560</td>\n",
       "      <td>-0.005053</td>\n",
       "      <td>-0.000586</td>\n",
       "      <td>-2.926543e-03</td>\n",
       "      <td>-0.003633</td>\n",
       "      <td>0.002192</td>\n",
       "      <td>0.002297</td>\n",
       "      <td>0.000548</td>\n",
       "      <td>0.001684</td>\n",
       "      <td>0.001064</td>\n",
       "      <td>...</td>\n",
       "      <td>-0.002346</td>\n",
       "      <td>0.005005</td>\n",
       "      <td>0.001671</td>\n",
       "      <td>-0.001675</td>\n",
       "      <td>0.003891</td>\n",
       "      <td>-0.002537</td>\n",
       "      <td>-0.000721</td>\n",
       "      <td>-0.000545</td>\n",
       "      <td>0.000741</td>\n",
       "      <td>-0.000408</td>\n",
       "    </tr>\n",
       "    <tr>\n",
       "      <td>...</td>\n",
       "      <td>...</td>\n",
       "      <td>...</td>\n",
       "      <td>...</td>\n",
       "      <td>...</td>\n",
       "      <td>...</td>\n",
       "      <td>...</td>\n",
       "      <td>...</td>\n",
       "      <td>...</td>\n",
       "      <td>...</td>\n",
       "      <td>...</td>\n",
       "      <td>...</td>\n",
       "      <td>...</td>\n",
       "      <td>...</td>\n",
       "      <td>...</td>\n",
       "      <td>...</td>\n",
       "      <td>...</td>\n",
       "      <td>...</td>\n",
       "      <td>...</td>\n",
       "      <td>...</td>\n",
       "      <td>...</td>\n",
       "      <td>...</td>\n",
       "    </tr>\n",
       "    <tr>\n",
       "      <td>79</td>\n",
       "      <td>-0.001238</td>\n",
       "      <td>-0.001347</td>\n",
       "      <td>-0.006294</td>\n",
       "      <td>3.919095e-03</td>\n",
       "      <td>-0.000350</td>\n",
       "      <td>0.002212</td>\n",
       "      <td>-0.001579</td>\n",
       "      <td>0.003131</td>\n",
       "      <td>0.000637</td>\n",
       "      <td>0.004551</td>\n",
       "      <td>...</td>\n",
       "      <td>0.001179</td>\n",
       "      <td>0.000773</td>\n",
       "      <td>0.003995</td>\n",
       "      <td>-0.001790</td>\n",
       "      <td>-0.000459</td>\n",
       "      <td>-0.000943</td>\n",
       "      <td>0.000202</td>\n",
       "      <td>0.001596</td>\n",
       "      <td>-0.004625</td>\n",
       "      <td>0.003767</td>\n",
       "    </tr>\n",
       "    <tr>\n",
       "      <td>80</td>\n",
       "      <td>-0.000479</td>\n",
       "      <td>-0.000650</td>\n",
       "      <td>0.000147</td>\n",
       "      <td>-2.053050e-03</td>\n",
       "      <td>-0.000134</td>\n",
       "      <td>0.002587</td>\n",
       "      <td>-0.002323</td>\n",
       "      <td>-0.001722</td>\n",
       "      <td>-0.000161</td>\n",
       "      <td>-0.002968</td>\n",
       "      <td>...</td>\n",
       "      <td>-0.000474</td>\n",
       "      <td>0.001561</td>\n",
       "      <td>0.002448</td>\n",
       "      <td>-0.001232</td>\n",
       "      <td>0.001898</td>\n",
       "      <td>0.001792</td>\n",
       "      <td>-0.001180</td>\n",
       "      <td>0.000700</td>\n",
       "      <td>0.001686</td>\n",
       "      <td>0.003231</td>\n",
       "    </tr>\n",
       "    <tr>\n",
       "      <td>81</td>\n",
       "      <td>0.003238</td>\n",
       "      <td>-0.001034</td>\n",
       "      <td>0.001880</td>\n",
       "      <td>4.404472e-03</td>\n",
       "      <td>-0.000887</td>\n",
       "      <td>-0.006045</td>\n",
       "      <td>0.000815</td>\n",
       "      <td>-0.003537</td>\n",
       "      <td>-0.000141</td>\n",
       "      <td>-0.001707</td>\n",
       "      <td>...</td>\n",
       "      <td>-0.004133</td>\n",
       "      <td>0.000697</td>\n",
       "      <td>-0.001540</td>\n",
       "      <td>-0.007095</td>\n",
       "      <td>0.003014</td>\n",
       "      <td>0.001128</td>\n",
       "      <td>-0.001797</td>\n",
       "      <td>0.003248</td>\n",
       "      <td>0.007330</td>\n",
       "      <td>0.005405</td>\n",
       "    </tr>\n",
       "    <tr>\n",
       "      <td>82</td>\n",
       "      <td>-0.000250</td>\n",
       "      <td>-0.006789</td>\n",
       "      <td>-0.002213</td>\n",
       "      <td>-1.499712e-03</td>\n",
       "      <td>-0.000405</td>\n",
       "      <td>0.000636</td>\n",
       "      <td>-0.001041</td>\n",
       "      <td>0.002672</td>\n",
       "      <td>0.006714</td>\n",
       "      <td>-0.002845</td>\n",
       "      <td>...</td>\n",
       "      <td>0.001072</td>\n",
       "      <td>0.000788</td>\n",
       "      <td>0.008695</td>\n",
       "      <td>-0.000500</td>\n",
       "      <td>0.003657</td>\n",
       "      <td>0.001050</td>\n",
       "      <td>0.001338</td>\n",
       "      <td>0.001052</td>\n",
       "      <td>0.002242</td>\n",
       "      <td>-0.001332</td>\n",
       "    </tr>\n",
       "    <tr>\n",
       "      <td>83</td>\n",
       "      <td>0.001814</td>\n",
       "      <td>-0.006608</td>\n",
       "      <td>0.002922</td>\n",
       "      <td>-1.421392e-03</td>\n",
       "      <td>-0.005051</td>\n",
       "      <td>0.003128</td>\n",
       "      <td>-0.001487</td>\n",
       "      <td>0.004673</td>\n",
       "      <td>0.001667</td>\n",
       "      <td>-0.000638</td>\n",
       "      <td>...</td>\n",
       "      <td>-0.001108</td>\n",
       "      <td>0.002402</td>\n",
       "      <td>0.007641</td>\n",
       "      <td>0.002069</td>\n",
       "      <td>0.006940</td>\n",
       "      <td>-0.003235</td>\n",
       "      <td>-0.000523</td>\n",
       "      <td>-0.000810</td>\n",
       "      <td>-0.003017</td>\n",
       "      <td>-0.004647</td>\n",
       "    </tr>\n",
       "  </tbody>\n",
       "</table>\n",
       "<p>84 rows × 50 columns</p>\n",
       "</div>"
      ],
      "text/plain": [
       "          0         1         2             3         4         5         6   \\\n",
       "0   0.000123 -0.001864 -0.002518 -5.662042e-03  0.001453  0.000414 -0.000249   \n",
       "1  -0.002683 -0.005676  0.002085 -5.769311e-07 -0.000455 -0.000302 -0.005606   \n",
       "2  -0.001416 -0.004249  0.001822 -1.842882e-03  0.000963  0.001068 -0.000009   \n",
       "3  -0.001969 -0.000387 -0.002711 -4.787745e-03  0.001342  0.004508  0.003539   \n",
       "4   0.001560 -0.005053 -0.000586 -2.926543e-03 -0.003633  0.002192  0.002297   \n",
       "..       ...       ...       ...           ...       ...       ...       ...   \n",
       "79 -0.001238 -0.001347 -0.006294  3.919095e-03 -0.000350  0.002212 -0.001579   \n",
       "80 -0.000479 -0.000650  0.000147 -2.053050e-03 -0.000134  0.002587 -0.002323   \n",
       "81  0.003238 -0.001034  0.001880  4.404472e-03 -0.000887 -0.006045  0.000815   \n",
       "82 -0.000250 -0.006789 -0.002213 -1.499712e-03 -0.000405  0.000636 -0.001041   \n",
       "83  0.001814 -0.006608  0.002922 -1.421392e-03 -0.005051  0.003128 -0.001487   \n",
       "\n",
       "          7         8         9   ...        40        41        42        43  \\\n",
       "0  -0.000990  0.000953 -0.000762  ...  0.002148  0.001733  0.000206 -0.000953   \n",
       "1   0.002488  0.001597 -0.002439  ...  0.000966  0.000231  0.004561 -0.004788   \n",
       "2  -0.002442  0.004567 -0.003982  ...  0.000863  0.002131  0.004867 -0.001949   \n",
       "3  -0.004662  0.000228  0.005513  ... -0.002439  0.000868 -0.006884 -0.003411   \n",
       "4   0.000548  0.001684  0.001064  ... -0.002346  0.005005  0.001671 -0.001675   \n",
       "..       ...       ...       ...  ...       ...       ...       ...       ...   \n",
       "79  0.003131  0.000637  0.004551  ...  0.001179  0.000773  0.003995 -0.001790   \n",
       "80 -0.001722 -0.000161 -0.002968  ... -0.000474  0.001561  0.002448 -0.001232   \n",
       "81 -0.003537 -0.000141 -0.001707  ... -0.004133  0.000697 -0.001540 -0.007095   \n",
       "82  0.002672  0.006714 -0.002845  ...  0.001072  0.000788  0.008695 -0.000500   \n",
       "83  0.004673  0.001667 -0.000638  ... -0.001108  0.002402  0.007641  0.002069   \n",
       "\n",
       "          44        45        46        47        48        49  \n",
       "0   0.002450 -0.000767  0.000247 -0.000575 -0.000770  0.001210  \n",
       "1   0.004931  0.002398 -0.002815  0.000049 -0.000349 -0.003257  \n",
       "2   0.004120  0.003348 -0.003129 -0.000875  0.001558  0.001718  \n",
       "3   0.002957 -0.001454 -0.002728  0.002022 -0.001707 -0.001150  \n",
       "4   0.003891 -0.002537 -0.000721 -0.000545  0.000741 -0.000408  \n",
       "..       ...       ...       ...       ...       ...       ...  \n",
       "79 -0.000459 -0.000943  0.000202  0.001596 -0.004625  0.003767  \n",
       "80  0.001898  0.001792 -0.001180  0.000700  0.001686  0.003231  \n",
       "81  0.003014  0.001128 -0.001797  0.003248  0.007330  0.005405  \n",
       "82  0.003657  0.001050  0.001338  0.001052  0.002242 -0.001332  \n",
       "83  0.006940 -0.003235 -0.000523 -0.000810 -0.003017 -0.004647  \n",
       "\n",
       "[84 rows x 50 columns]"
      ]
     },
     "execution_count": 50,
     "metadata": {},
     "output_type": "execute_result"
    }
   ],
   "source": [
    "corr_df"
   ]
  },
  {
   "cell_type": "code",
   "execution_count": 30,
   "metadata": {},
   "outputs": [
    {
     "data": {
      "text/html": [
       "<div>\n",
       "<style scoped>\n",
       "    .dataframe tbody tr th:only-of-type {\n",
       "        vertical-align: middle;\n",
       "    }\n",
       "\n",
       "    .dataframe tbody tr th {\n",
       "        vertical-align: top;\n",
       "    }\n",
       "\n",
       "    .dataframe thead th {\n",
       "        text-align: right;\n",
       "    }\n",
       "</style>\n",
       "<table border=\"1\" class=\"dataframe\">\n",
       "  <thead>\n",
       "    <tr style=\"text-align: right;\">\n",
       "      <th></th>\n",
       "      <th>count</th>\n",
       "      <th>mean</th>\n",
       "      <th>std</th>\n",
       "      <th>min</th>\n",
       "      <th>25%</th>\n",
       "      <th>50%</th>\n",
       "      <th>75%</th>\n",
       "      <th>max</th>\n",
       "    </tr>\n",
       "  </thead>\n",
       "  <tbody>\n",
       "    <tr>\n",
       "      <td>Helpful</td>\n",
       "      <td>84.0</td>\n",
       "      <td>4.702381</td>\n",
       "      <td>36.691084</td>\n",
       "      <td>0.0</td>\n",
       "      <td>0.0</td>\n",
       "      <td>0.0</td>\n",
       "      <td>0.0</td>\n",
       "      <td>336.0</td>\n",
       "    </tr>\n",
       "  </tbody>\n",
       "</table>\n",
       "</div>"
      ],
      "text/plain": [
       "         count      mean        std  min  25%  50%  75%    max\n",
       "Helpful   84.0  4.702381  36.691084  0.0  0.0  0.0  0.0  336.0"
      ]
     },
     "execution_count": 30,
     "metadata": {},
     "output_type": "execute_result"
    }
   ],
   "source": [
    "summary = data_f.describe()\n",
    "summary = summary.transpose()\n",
    "#Calculate the mean value, the standard deviation\n",
    "summary.head()"
   ]
  },
  {
   "cell_type": "code",
   "execution_count": 24,
   "metadata": {},
   "outputs": [
    {
     "data": {
      "text/plain": [
       "<matplotlib.axes._subplots.AxesSubplot at 0x1f5c7713d68>"
      ]
     },
     "execution_count": 24,
     "metadata": {},
     "output_type": "execute_result"
    },
    {
     "data": {
      "image/png": "[encoded data removed]",
      "text/plain": [
       "<Figure size 640x400 with 2 Axes>"
      ]
     },
     "metadata": {},
     "output_type": "display_data"
    }
   ],
   "source": [
    "#---------correlation of original data-------\n",
    "figure(num=None, figsize=(8, 5), dpi=80, facecolor='w', edgecolor='k')\n",
    "sns.heatmap(pd.DataFrame(data).corr(method='pearson'), annot=True)"
   ]
  },
  {
   "cell_type": "code",
   "execution_count": 43,
   "metadata": {},
   "outputs": [
    {
     "data": {
      "text/plain": [
       "<matplotlib.collections.PathCollection at 0x1f5c77dee10>"
      ]
     },
     "execution_count": 43,
     "metadata": {},
     "output_type": "execute_result"
    },
    {
     "data": {
      "image/png": "[encoded data removed]",
      "text/plain": [
       "<Figure size 432x288 with 1 Axes>"
      ]
     },
     "metadata": {
      "needs_background": "light"
     },
     "output_type": "display_data"
    },
    {
     "data": {
      "image/png": "[encoded data removed]",
      "text/plain": [
       "<Figure size 432x288 with 1 Axes>"
      ]
     },
     "metadata": {
      "needs_background": "light"
     },
     "output_type": "display_data"
    },
    {
     "data": {
      "image/png": "[encoded data removed]",
      "text/plain": [
       "<Figure size 432x288 with 1 Axes>"
      ]
     },
     "metadata": {
      "needs_background": "light"
     },
     "output_type": "display_data"
    }
   ],
   "source": [
    "#-------scatter plots---------------\n",
    "\n",
    "# plot scatter plot : rating vs all features\n",
    "data.plot()  # plots all columns against index\n",
    "data.plot(kind='scatter',x='Rating',y='Helpful') # scatter plot\n",
    "data.plot(kind='density')  # estimate density function\n"
   ]
  },
  {
   "cell_type": "code",
   "execution_count": 44,
   "metadata": {},
   "outputs": [
    {
     "data": {
      "text/plain": [
       "<matplotlib.collections.PathCollection at 0x1f5c7efdd68>"
      ]
     },
     "execution_count": 44,
     "metadata": {},
     "output_type": "execute_result"
    },
    {
     "data": {
      "image/png": "[encoded data removed]",
      "text/plain": [
       "<Figure size 432x288 with 1 Axes>"
      ]
     },
     "metadata": {
      "needs_background": "light"
     },
     "output_type": "display_data"
    }
   ],
   "source": [
    "#------Scatter plot for encoded text \n",
    "plt.scatter(x_train[:,0], x_train[:,1])"
   ]
  }
 ],
 "metadata": {
  "kernelspec": {
   "display_name": "Python 3",
   "language": "python",
   "name": "python3"
  },
  "language_info": {
   "codemirror_mode": {
    "name": "ipython",
    "version": 3
   },
   "file_extension": ".py",
   "mimetype": "text/x-python",
   "name": "python",
   "nbconvert_exporter": "python",
   "pygments_lexer": "ipython3",
   "version": "3.6.9"
  }
 },
 "nbformat": 4,
 "nbformat_minor": 2
}
