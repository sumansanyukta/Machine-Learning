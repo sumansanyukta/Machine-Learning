{
 "cells": [
  {
   "cell_type": "code",
   "execution_count": 1,
   "metadata": {},
   "outputs": [
    {
     "name": "stdout",
     "output_type": "stream",
     "text": [
      "['woman']\n"
     ]
    }
   ],
   "source": [
    "from sklearn import tree                                                        \n",
    "clf = tree.DecisionTreeClassifier()                                             \n",
    "\n",
    "#[height, hair-length, voice-pitch]                                             \n",
    "X = [ [180, 15,0],                                                              \n",
    "      [167, 42,1],                                                              \n",
    "      [136, 35,1],                                                              \n",
    "      [174, 15,0],                                                              \n",
    "      [141, 28,1]]                                                              \n",
    "\n",
    "Y = ['man', 'woman', 'woman', 'man', 'woman']                                   \n",
    "\n",
    "clf = clf.fit(X, Y)                                                             \n",
    "prediction = clf.predict([[133, 37,1]])                                         \n",
    "print(prediction) "
   ]
  },
  {
   "cell_type": "code",
   "execution_count": null,
   "metadata": {},
   "outputs": [],
   "source": []
  }
 ],
 "metadata": {
  "kernelspec": {
   "display_name": "Python 3",
   "language": "python",
   "name": "python3"
  },
  "language_info": {
   "codemirror_mode": {
    "name": "ipython",
    "version": 3
   },
   "file_extension": ".py",
   "mimetype": "text/x-python",
   "name": "python",
   "nbconvert_exporter": "python",
   "pygments_lexer": "ipython3",
   "version": "3.6.9"
  }
 },
 "nbformat": 4,
 "nbformat_minor": 2
}
